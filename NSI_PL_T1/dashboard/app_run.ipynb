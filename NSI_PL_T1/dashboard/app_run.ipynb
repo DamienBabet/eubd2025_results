{
 "cells": [
  {
   "cell_type": "code",
   "execution_count": null,
   "id": "43bb6379-2cc4-4762-8895-0e8ee816dcca",
   "metadata": {},
   "outputs": [],
   "source": [
    "app = dash.Dash(__name__, external_stylesheets=[dbc.themes.BOOTSTRAP])"
   ]
  },
  {
   "cell_type": "code",
   "execution_count": null,
   "id": "0b6f9605-6220-497f-ac43-d13b507856c6",
   "metadata": {},
   "outputs": [],
   "source": [
    "app.layout = html.Div([\n",
    "    lay_header,\n",
    "    lay_sidebar,\n",
    "    lay_main,\n",
    "    lay_footer\n",
    "]) "
   ]
  },
  {
   "cell_type": "code",
   "execution_count": null,
   "id": "d1cdc5bc-13e5-4c37-83ec-da532b51d953",
   "metadata": {},
   "outputs": [],
   "source": [
    "if __name__ == '__main__':\n",
    "    app.run(jupyter_server_url=\"put url/ip here\", host=\"put url/ip here\", port=\"8050\", jupyter_mode=\"external\", jupyter_height=500, jupyter_width=\"70%\", debug=False)"
   ]
  }
 ],
 "metadata": {
  "kernelspec": {
   "display_name": "Python 3 (ipykernel)",
   "language": "python",
   "name": "python3"
  },
  "language_info": {
   "codemirror_mode": {
    "name": "ipython",
    "version": 3
   },
   "file_extension": ".py",
   "mimetype": "text/x-python",
   "name": "python",
   "nbconvert_exporter": "python",
   "pygments_lexer": "ipython3",
   "version": "3.10.12"
  }
 },
 "nbformat": 4,
 "nbformat_minor": 5
}
