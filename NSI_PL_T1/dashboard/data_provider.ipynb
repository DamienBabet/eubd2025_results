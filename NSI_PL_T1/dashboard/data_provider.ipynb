{
 "cells": [
  {
   "cell_type": "code",
   "execution_count": null,
   "id": "3f2487e9-0b11-4862-9cf2-b5a931db1e57",
   "metadata": {},
   "outputs": [],
   "source": [
    "geo_codes = gc2012[\"NUTS_ID\"].unique().tolist()\n",
    "print(geo_codes)"
   ]
  },
  {
   "cell_type": "code",
   "execution_count": null,
   "id": "37e7ff95-8025-49a4-8626-c42a53548dc7",
   "metadata": {},
   "outputs": [],
   "source": [
    "def get_eurostat_animal(animal):\n",
    "    return eurostat.get_data_df(\"agr_r_animal\", filter_pars= {'animals':animal, 'startPeriod': 2012, 'endPeriod':2018})\n"
   ]
  },
  {
   "cell_type": "code",
   "execution_count": null,
   "id": "83bda414-d07e-4bf5-ad3e-82036a1fc73c",
   "metadata": {},
   "outputs": [],
   "source": [
    "def get_eurostat_pop():\n",
    "    return eurostat.get_data_df(\"demo_r_d2jan\", filter_pars= {'sex':'T','age':'TOTAL','unit':'NR','startPeriod': 2012, 'endPeriod':2018})\n"
   ]
  },
  {
   "cell_type": "code",
   "execution_count": null,
   "id": "94d1834f-9689-447c-b2ab-868985687091",
   "metadata": {},
   "outputs": [],
   "source": [
    "df_cows = get_eurostat_animal(\"A2300\")\n",
    "df_cows.drop([\"2013\",\"2014\",\"2015\",\"2016\",\"2017\"], axis=1, inplace=True)\n"
   ]
  },
  {
   "cell_type": "code",
   "execution_count": null,
   "id": "833bae7c-cef8-4bca-a712-c064236af754",
   "metadata": {},
   "outputs": [],
   "source": [
    "df_pop = get_eurostat_pop()\n",
    "df_pop.drop([\"2013\",\"2014\",\"2015\",\"2016\",\"2017\"], axis=1, inplace=True)\n"
   ]
  },
  {
   "cell_type": "code",
   "execution_count": null,
   "id": "3efecaad-437c-4372-81e2-21070ab0badc",
   "metadata": {},
   "outputs": [],
   "source": [
    "mr = gc2012.merge(df_cows, left_on=\"NUTS_ID\", right_on=\"geo\\\\TIME_PERIOD\", how=\"left\")\n"
   ]
  },
  {
   "cell_type": "code",
   "execution_count": null,
   "id": "77903a63-fc77-4aab-94eb-84730e6f0a92",
   "metadata": {},
   "outputs": [],
   "source": [
    "def get_full_data(year, level, primary, secondary, f):\n",
    "    if primary == \"\":\n",
    "        return gc2012\n",
    "        \n",
    "    gdf = gc2012\n",
    "    if year == \"2012\" and level == \"Country\":\n",
    "        gdf = gc2012\n",
    "    elif year == \"2018\" and level == \"Country\":\n",
    "        gdf = gc2018\n",
    "    elif year == \"2012\" and level == \"Region\":\n",
    "        gdf = gr2012\n",
    "    elif year == \"2018\" and level == \"Region\":\n",
    "        gdf = gr2018\n",
    "    elif year == \"2018 to 2012 compare\" and level == \"Country\":\n",
    "        g18 = gc2018\n",
    "        g12 = gc2012\n",
    "        g18[primary] = g18[primary] - g12[primary]\n",
    "        gdf = g18\n",
    "    elif year == \"2018 to 2012 compare\" and level == \"Region\":\n",
    "        g18 = gr2018\n",
    "        g12 = gr2012\n",
    "        g18[primary] = g18[primary] - g12[primary]\n",
    "        gdf = g18\n",
    "\n",
    "    if secondary == \"Cows\":\n",
    "        mr = gdf.merge(df_cows, left_on=\"NUTS_ID\", right_on=\"geo\\\\TIME_PERIOD\", how=\"left\")\n",
    "        mr[\"cnt\"] = np.where(mr[year] != 0, mr[primary] / mr[year], np.nan)\n",
    "        gdf = mr\n",
    "    elif secondary == \"Population\":\n",
    "        mr = gdf.merge(df_pop, left_on=\"NUTS_ID\", right_on=\"geo\\\\TIME_PERIOD\", how=\"left\")\n",
    "        mr[\"cnt\"] = np.where(mr[year] != 0, mr[primary] / mr[year], np.nan)\n",
    "        gdf = mr\n",
    "    else:\n",
    "        gdf[\"cnt\"] = gdf[primary]\n",
    "\n",
    "    gdf[\"p_year\"] = year\n",
    "    gdf[\"p_level\"] = level\n",
    "    gdf[\"p_primary\"] = primary\n",
    "    gdf[\"p_secondary\"] = secondary\n",
    "    gdf[\"p_f\"] = f\n",
    "    \n",
    "    return gdf"
   ]
  },
  {
   "cell_type": "code",
   "execution_count": null,
   "id": "1da6020d-1f1d-4294-b004-61ad8b14f927",
   "metadata": {},
   "outputs": [],
   "source": [
    "zz = get_full_data(\"2012\",\"Region\", \"\",\"\",\"\")\n"
   ]
  }
 ],
 "metadata": {
  "kernelspec": {
   "display_name": "Python 3 (ipykernel)",
   "language": "python",
   "name": "python3"
  },
  "language_info": {
   "codemirror_mode": {
    "name": "ipython",
    "version": 3
   },
   "file_extension": ".py",
   "mimetype": "text/x-python",
   "name": "python",
   "nbconvert_exporter": "python",
   "pygments_lexer": "ipython3",
   "version": "3.10.12"
  }
 },
 "nbformat": 4,
 "nbformat_minor": 5
}
