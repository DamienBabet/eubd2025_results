{
 "cells": [
  {
   "cell_type": "code",
   "execution_count": null,
   "id": "1229c690-c274-49d5-96d1-32b462574804",
   "metadata": {},
   "outputs": [],
   "source": [
    "#imports\n",
    "import dash\n",
    "import json\n",
    "from dash import html, dcc, jupyter_dash, Input, Output ,callback , dash_table\n",
    "import dash_bootstrap_components as dbc\n",
    "import dash_leaflet as dl\n",
    "import requests\n",
    "import random\n",
    "import geopandas as gpd\n",
    "import plotly.express as px  \n",
    "import dash_leaflet.express as dlx\n",
    "from dash_extensions.javascript import arrow_function, assign\n",
    "import re\n",
    "import matplotlib.pyplot as plt\n",
    "import matplotlib.colors as mcolors\n",
    "import matplotlib.cm as cm\n",
    "import math\n",
    "import eurostat\n",
    "import numpy as np"
   ]
  },
  {
   "cell_type": "code",
   "execution_count": null,
   "id": "a9032efd-e25b-47a6-b3a0-0a871aa6fc42",
   "metadata": {},
   "outputs": [],
   "source": []
  },
  {
   "cell_type": "code",
   "execution_count": null,
   "id": "4e8bcef7-6093-457a-bc1a-f9ac8b77f496",
   "metadata": {},
   "outputs": [],
   "source": []
  }
 ],
 "metadata": {
  "kernelspec": {
   "display_name": "Python 3 (ipykernel)",
   "language": "python",
   "name": "python3"
  },
  "language_info": {
   "codemirror_mode": {
    "name": "ipython",
    "version": 3
   },
   "file_extension": ".py",
   "mimetype": "text/x-python",
   "name": "python",
   "nbconvert_exporter": "python",
   "pygments_lexer": "ipython3",
   "version": "3.10.12"
  }
 },
 "nbformat": 4,
 "nbformat_minor": 5
}
