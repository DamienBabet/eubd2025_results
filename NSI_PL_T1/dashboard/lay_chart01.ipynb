{
 "cells": [
  {
   "cell_type": "code",
   "execution_count": 22,
   "id": "8fafda8b-0fce-487f-950c-c19c07a521bd",
   "metadata": {},
   "outputs": [],
   "source": [
    "lay_chart01 = html.Div([\n",
    "    #html.P(\"Chart 01 - Place holder\"),\n",
    "    dcc.Graph(id='chart01')\n",
    "])\n"
   ]
  },
  {
   "cell_type": "code",
   "execution_count": null,
   "id": "3efecaad-437c-4372-81e2-21070ab0badc",
   "metadata": {},
   "outputs": [],
   "source": [
    "@callback(\n",
    "    Output('chart01', 'figure'),\n",
    "    Input(\"cmbYear\", \"value\"),\n",
    "    Input(\"cmbMap\", \"value\"),\n",
    "    Input(\"cmdIndicator\", \"value\"),\n",
    "    Input(\"cmdStat\", \"value\"),\n",
    "    Input(\"cmdFilter\", \"value\")\n",
    ")\n",
    "def update_graph(sel_year,selected_value,sel_ind,sel_stat,sel_filt):\n",
    "\n",
    "    indi = sel_ind\n",
    "        \n",
    "    sec = sel_stat\n",
    "    if sec == \"Cows\":\n",
    "        indi = f\"{indi} / {sec}(Thousand)\"\n",
    "    elif sec == \"Population\":\n",
    "        indi = f\"{indi} / {sec}\"\n",
    "    \n",
    "    gdf = get_full_data(sel_year,selected_value,sel_ind,sel_stat,sel_filt)\n",
    "    fig = px.bar(gdf, x='NUTS_ID', y='cnt', title=\"Count by NUTS\")\n",
    "    \n",
    "    return fig"
   ]
  }
 ],
 "metadata": {
  "kernelspec": {
   "display_name": "Python 3 (ipykernel)",
   "language": "python",
   "name": "python3"
  },
  "language_info": {
   "codemirror_mode": {
    "name": "ipython",
    "version": 3
   },
   "file_extension": ".py",
   "mimetype": "text/x-python",
   "name": "python",
   "nbconvert_exporter": "python",
   "pygments_lexer": "ipython3",
   "version": "3.10.12"
  }
 },
 "nbformat": 4,
 "nbformat_minor": 5
}
