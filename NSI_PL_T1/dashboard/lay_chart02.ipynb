{
 "cells": [
  {
   "cell_type": "code",
   "execution_count": null,
   "id": "3efecaad-437c-4372-81e2-21070ab0badc",
   "metadata": {},
   "outputs": [],
   "source": [
    "lay_chart02 = html.Div([\n",
    "    dcc.Graph(id='chart02')\n",
    "])"
   ]
  },
  {
   "cell_type": "code",
   "execution_count": null,
   "id": "122c2770-bfe5-48a7-b313-1567b2c643fc",
   "metadata": {},
   "outputs": [],
   "source": [
    "@callback(\n",
    "    Output('chart02', 'figure'),\n",
    "    Input(\"cmbYear\", \"value\"),\n",
    "    Input(\"cmbMap\", \"value\"),\n",
    "    Input(\"cmdIndicator\", \"value\"),\n",
    "    Input(\"cmdStat\", \"value\"),\n",
    "    Input(\"cmdFilter\", \"value\")\n",
    ")\n",
    "def update_graph(sel_year,selected_value,sel_ind,sel_stat,sel_filt):\n",
    "    gdf = get_full_data(sel_year,selected_value,sel_ind,sel_stat,sel_filt)\n",
    "    fig = px.pie(gdf, names=\"Country\", values='cnt', title=\"Ecosystem Account Share\")\n",
    "    return fig\n"
   ]
  }
 ],
 "metadata": {
  "kernelspec": {
   "display_name": "Python 3 (ipykernel)",
   "language": "python",
   "name": "python3"
  },
  "language_info": {
   "codemirror_mode": {
    "name": "ipython",
    "version": 3
   },
   "file_extension": ".py",
   "mimetype": "text/x-python",
   "name": "python",
   "nbconvert_exporter": "python",
   "pygments_lexer": "ipython3",
   "version": "3.10.12"
  }
 },
 "nbformat": 4,
 "nbformat_minor": 5
}
