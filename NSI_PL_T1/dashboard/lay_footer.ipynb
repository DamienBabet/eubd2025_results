{
 "cells": [
  {
   "cell_type": "code",
   "execution_count": 22,
   "id": "8fafda8b-0fce-487f-950c-c19c07a521bd",
   "metadata": {},
   "outputs": [],
   "source": [
    "#footer\n",
    "lay_footer = dbc.Container(\n",
    "    dbc.Row(\n",
    "        dbc.Col(\n",
    "            html.P(\"MEA CULPA Dashbord v0.4.81 (Veni, Vidi, Computavi) - Poland Team1\"),\n",
    "            width=12\n",
    "        ),\n",
    "        className=\"text-center\"\n",
    "    ),\n",
    "    fluid=True,\n",
    "    className=\"bg-light py-1 mt-1 fixed-bottom\"\n",
    ") "
   ]
  },
  {
   "cell_type": "code",
   "execution_count": null,
   "id": "3efecaad-437c-4372-81e2-21070ab0badc",
   "metadata": {},
   "outputs": [],
   "source": []
  }
 ],
 "metadata": {
  "kernelspec": {
   "display_name": "Python 3 (ipykernel)",
   "language": "python",
   "name": "python3"
  },
  "language_info": {
   "codemirror_mode": {
    "name": "ipython",
    "version": 3
   },
   "file_extension": ".py",
   "mimetype": "text/x-python",
   "name": "python",
   "nbconvert_exporter": "python",
   "pygments_lexer": "ipython3",
   "version": "3.10.12"
  }
 },
 "nbformat": 4,
 "nbformat_minor": 5
}
