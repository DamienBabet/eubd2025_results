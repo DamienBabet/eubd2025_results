{
 "cells": [
  {
   "cell_type": "code",
   "execution_count": null,
   "id": "8fafda8b-0fce-487f-950c-c19c07a521bd",
   "metadata": {},
   "outputs": [],
   "source": [
    "#header\n",
    "lay_header = dbc.NavbarSimple(\n",
    "    brand=\"MEA CULPA - Monitoring Ecosystem Accounts: Counting Usable Life Progress Analysis\",\n",
    "    color=\"primary\",\n",
    "    dark=True,\n",
    "    className=\"mb-1 fixed-top\"\n",
    ")   "
   ]
  }
 ],
 "metadata": {
  "kernelspec": {
   "display_name": "Python 3 (ipykernel)",
   "language": "python",
   "name": "python3"
  },
  "language_info": {
   "codemirror_mode": {
    "name": "ipython",
    "version": 3
   },
   "file_extension": ".py",
   "mimetype": "text/x-python",
   "name": "python",
   "nbconvert_exporter": "python",
   "pygments_lexer": "ipython3",
   "version": "3.10.12"
  }
 },
 "nbformat": 4,
 "nbformat_minor": 5
}
