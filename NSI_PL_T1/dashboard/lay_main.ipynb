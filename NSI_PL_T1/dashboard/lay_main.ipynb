{
 "cells": [
  {
   "cell_type": "code",
   "execution_count": null,
   "id": "8fafda8b-0fce-487f-950c-c19c07a521bd",
   "metadata": {},
   "outputs": [],
   "source": [
    "#main\n",
    "lay_main = html.Div(\n",
    "    [\n",
    "        dbc.Container(\n",
    "            [\n",
    "            dbc.Row(\n",
    "                lay_map\n",
    "            ),\n",
    "        dbc.Row(\n",
    "            [\n",
    "                dbc.Col(\n",
    "                    [\n",
    "                        lay_chart01\n",
    "                    ],\n",
    "                    md=6,\n",
    "                    align=\"left\",\n",
    "                ),\n",
    "                dbc.Col(\n",
    "                    [\n",
    "                        lay_chart02\n",
    "                    ],\n",
    "                    md=6,\n",
    "                )\n",
    "            ],\n",
    "            justify=\"left\",\n",
    "        ),\n",
    "            ]\n",
    "        ),\n",
    "        lay_table,\n",
    "    ],\n",
    "    style={\n",
    "        \"marginLeft\": \"300px\",\n",
    "        \"marginTop\": \"60px\",\n",
    "        \"marginBottom\": \"50px\",\n",
    "        \"padding\": \"2px\"\n",
    "    }\n",
    ")    "
   ]
  }
 ],
 "metadata": {
  "kernelspec": {
   "display_name": "Python 3 (ipykernel)",
   "language": "python",
   "name": "python3"
  },
  "language_info": {
   "codemirror_mode": {
    "name": "ipython",
    "version": 3
   },
   "file_extension": ".py",
   "mimetype": "text/x-python",
   "name": "python",
   "nbconvert_exporter": "python",
   "pygments_lexer": "ipython3",
   "version": "3.10.12"
  }
 },
 "nbformat": 4,
 "nbformat_minor": 5
}
