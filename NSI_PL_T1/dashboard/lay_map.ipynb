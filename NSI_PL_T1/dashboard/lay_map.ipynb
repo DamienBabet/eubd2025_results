{
 "cells": [
  {
   "cell_type": "code",
   "execution_count": null,
   "id": "8fafda8b-0fce-487f-950c-c19c07a521bd",
   "metadata": {},
   "outputs": [],
   "source": [
    "style_handle = assign(\"\"\"function(feature, context){\n",
    "    const value = feature.properties[\"style\"];  // get value the determines the color\n",
    "\n",
    "    return value;\n",
    "}\"\"\")\n",
    "\n",
    "left = 1000000.0\n",
    "right = 1020000.0\n",
    "bottom = 500000.0\n",
    "top = 520000.0\n",
    "\n",
    "\n",
    "lay_map = dl.Map(\n",
    "    children=[\n",
    "        dl.TileLayer(), \n",
    "        dl.LayerGroup(id=\"geojson-layer\"),  \n",
    "    ], \n",
    "    style={'height': '50vh'}, \n",
    "    center=[56, 10], \n",
    "    zoom=3\n",
    ")"
   ]
  },
  {
   "cell_type": "code",
   "execution_count": null,
   "id": "1be08372-b4c5-4d04-bbe4-4399d99a1459",
   "metadata": {},
   "outputs": [],
   "source": [
    "@callback(\n",
    "    Output(\"geojson-layer\", \"children\"),\n",
    "    Input(\"cmbYear\", \"value\"),\n",
    "    Input(\"cmbMap\", \"value\"),\n",
    "    Input(\"cmdIndicator\", \"value\"),\n",
    "    Input(\"cmdStat\", \"value\"),\n",
    "    Input(\"cmdFilter\", \"value\")\n",
    ")\n",
    "def level_selected_output(sel_year,selected_value,sel_ind,sel_stat,sel_filt):\n",
    "    gdf = get_full_data(sel_year,selected_value,sel_ind,sel_stat,sel_filt)\n",
    "    js = color_geoJson(gdf,\"cnt\")\n",
    " \n",
    "    geojson = dl.GeoJSON(data=js,\n",
    "                     style=style_handle, \n",
    "                     hoverStyle=arrow_function(dict(weight=2, color='red', dashArray='')), \n",
    "                     id=\"geojson\")\n",
    "    \n",
    "    return [geojson]"
   ]
  },
  {
   "cell_type": "code",
   "execution_count": null,
   "id": "03e22fb4-2a2e-48fc-a979-77cdabbaeba2",
   "metadata": {},
   "outputs": [],
   "source": [
    "@callback(\n",
    "    Output(\"geojson\", \"children\"),\n",
    "    [Input(\"geojson\", \"hoverData\")]\n",
    ")\n",
    "def display_hover_data(hoverData):\n",
    "    if hoverData:\n",
    "        # Pobrane dane po najechaniu\n",
    "        properties = hoverData[\"properties\"]\n",
    "        # Tworzymy treść popupu\n",
    "        #popup_content = html.Div([f\"<b>{key}:</b> {value}\" for key, value in properties.items()])\n",
    "\n",
    "        \n",
    "        indi = properties[\"p_primary\"]\n",
    "        \n",
    "        sec = properties[\"p_secondary\"]\n",
    "        if sec == \"Cows\":\n",
    "            indi = f\"{indi} / {sec}(Thousand)\"\n",
    "        elif sec == \"Population\":\n",
    "            indi = f\"{indi} / {sec}\"\n",
    "            \n",
    "            \n",
    "        #print(properties)\n",
    "        popup_content = html.Div([\n",
    "            html.Div(properties[\"NAME_LATN\"]),\n",
    "            html.Div([\"Indicator:\",indi]),\n",
    "            #html.Div([\"Value: \",properties[properties[\"p_primary\"]]]),\n",
    "            html.Div([\"Value: \",properties[\"cnt\"]]),\n",
    "            #html.Div([\"2018: \",]),\n",
    "            \n",
    "        ])\n",
    "        # Dodajemy Popup do mapy\n",
    "        return [dl.Popup(popup_content)]\n",
    "    return []"
   ]
  }
 ],
 "metadata": {
  "kernelspec": {
   "display_name": "Python 3 (ipykernel)",
   "language": "python",
   "name": "python3"
  },
  "language_info": {
   "codemirror_mode": {
    "name": "ipython",
    "version": 3
   },
   "file_extension": ".py",
   "mimetype": "text/x-python",
   "name": "python",
   "nbconvert_exporter": "python",
   "pygments_lexer": "ipython3",
   "version": "3.10.12"
  }
 },
 "nbformat": 4,
 "nbformat_minor": 5
}
