{
 "cells": [
  {
   "cell_type": "code",
   "execution_count": null,
   "id": "8fafda8b-0fce-487f-950c-c19c07a521bd",
   "metadata": {},
   "outputs": [],
   "source": [
    "\n",
    "lay_table = html.Div(\n",
    "    [\n",
    "        dash_table.DataTable(\n",
    "            id=\"table\",\n",
    "            columns=[{\"name\": col, \"id\": col} for col in df.columns], \n",
    "            data=df.to_dict(\"records\"), \n",
    "            page_size=10, \n",
    "            style_table={\"overflowX\": \"auto\"}, \n",
    "            style_cell={\"textAlign\": \"left\"}, \n",
    "            style_header={\"backgroundColor\": \"lightgrey\", \"fontWeight\": \"bold\"}, \n",
    "            sort_action=\"native\",  \n",
    "            filter_action=\"native\",  \n",
    "        ),\n",
    "\n",
    "        html.Button(\"Export table to file\", id=\"download-btn\"),\n",
    "        dcc.Download(id=\"download-geojson\")\n",
    "    ]\n",
    ")"
   ]
  },
  {
   "cell_type": "code",
   "execution_count": null,
   "id": "da19711c-2455-459a-8b1b-d2f2507ae95f",
   "metadata": {},
   "outputs": [],
   "source": [
    "@callback(\n",
    "    Output(\"download-geojson\", \"data\"),\n",
    "    Input(\"download-btn\", \"n_clicks\"),\n",
    "    prevent_initial_call=True\n",
    ")\n",
    "def download_geojson(n_clicks):\n",
    "    geojson_data = df.to_json() \n",
    "    return dcc.send_string(geojson_data, \"data.geojson\")\n"
   ]
  }
 ],
 "metadata": {
  "kernelspec": {
   "display_name": "Python 3 (ipykernel)",
   "language": "python",
   "name": "python3"
  },
  "language_info": {
   "codemirror_mode": {
    "name": "ipython",
    "version": 3
   },
   "file_extension": ".py",
   "mimetype": "text/x-python",
   "name": "python",
   "nbconvert_exporter": "python",
   "pygments_lexer": "ipython3",
   "version": "3.10.12"
  }
 },
 "nbformat": 4,
 "nbformat_minor": 5
}
