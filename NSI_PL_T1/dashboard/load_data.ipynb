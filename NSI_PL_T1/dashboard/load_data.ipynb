{
 "cells": [
  {
   "cell_type": "code",
   "execution_count": null,
   "id": "85e93a5e-6236-44a9-9102-ff0edc9646b2",
   "metadata": {},
   "outputs": [],
   "source": [
    "def get_geoJson(geoFile):\n",
    "    with open(geoFile, encoding=\"utf-8\") as f:\n",
    "        geojson_data = json.load(f)\n",
    "    return geojson_data"
   ]
  },
  {
   "cell_type": "code",
   "execution_count": null,
   "id": "d925d09b-926c-429e-a98e-4919313293a2",
   "metadata": {},
   "outputs": [],
   "source": [
    "def get_color(value, cmap):\n",
    "    if value is None or value == '' or (isinstance(value, float) and math.isnan(value)):  \n",
    "        return \"#b00000\"\n",
    "    return mcolors.rgb2hex(cmap.to_rgba(value)[:3])"
   ]
  },
  {
   "cell_type": "code",
   "execution_count": 1,
   "id": "d9e6e112-12c0-4243-8d23-8f94d6ad0db7",
   "metadata": {},
   "outputs": [],
   "source": [
    "def color_geoJson(geo, indi):\n",
    "    min_value = geo[indi].min()\n",
    "    max_value = geo[indi].max()\n",
    "\n",
    "    norm = mcolors.Normalize(vmin=min_value, vmax=max_value)\n",
    "    cmap = cm.ScalarMappable(norm=norm, cmap='YlGn')\n",
    "\n",
    "    geoToColor = json.loads(geo.to_json())\n",
    "\n",
    "    for feature in geoToColor[\"features\"]:\n",
    "        density = feature[\"properties\"][indi]\n",
    "        feature[\"properties\"][\"style\"] = {\n",
    "            \"fillColor\": get_color(density, cmap),\n",
    "            \"fill\":\"black\",\n",
    "            \"color\": \"black\",\n",
    "            \"weight\": 2,\n",
    "            \"fillOpacity\": 0.6\n",
    "    }\n",
    "        \n",
    "    return geoToColor"
   ]
  },
  {
   "cell_type": "code",
   "execution_count": null,
   "id": "9e3ee428-e17e-4cb2-826b-866660f674ec",
   "metadata": {},
   "outputs": [],
   "source": [
    "#Loading\n",
    "gc2012 = gpd.read_file(\"./data/Country_2012_4326.geojson\")\n",
    "gr2012 = gpd.read_file(\"./data/NUTS2_2012_4326.geojson\")\n",
    "gc2018 = gpd.read_file(\"./data/Country_2018_4326.geojson\")\n",
    "gr2018 = gpd.read_file(\"./data/NUTS2_2018_4326.geojson\")\n",
    "\n",
    "tb = gpd.read_file(\"./data/NUTS2_2018_4326.geojson\")\n",
    "df = tb.drop(columns=[\"geometry\"])"
   ]
  },
  {
   "cell_type": "code",
   "execution_count": null,
   "id": "995e3278-c847-4ca3-8c74-d62446673dd4",
   "metadata": {},
   "outputs": [],
   "source": [
    "g01 = get_geoJson(\"./data/Country_2012_4326.geojson\")\n",
    "\n",
    "first_feature_properties = g01[\"features\"][0][\"properties\"]\n",
    "property_keys = list(first_feature_properties.keys())\n"
   ]
  }
 ],
 "metadata": {
  "kernelspec": {
   "display_name": "Python 3 (ipykernel)",
   "language": "python",
   "name": "python3"
  },
  "language_info": {
   "codemirror_mode": {
    "name": "ipython",
    "version": 3
   },
   "file_extension": ".py",
   "mimetype": "text/x-python",
   "name": "python",
   "nbconvert_exporter": "python",
   "pygments_lexer": "ipython3",
   "version": "3.10.12"
  }
 },
 "nbformat": 4,
 "nbformat_minor": 5
}
