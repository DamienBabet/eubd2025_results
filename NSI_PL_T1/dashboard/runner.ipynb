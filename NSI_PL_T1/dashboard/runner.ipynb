{
 "cells": [
  {
   "cell_type": "code",
   "execution_count": null,
   "id": "3ac4c9f9-3a45-4c25-b6b9-9eeccfa1823a",
   "metadata": {},
   "outputs": [],
   "source": [
    "!pip install pandas dash jupyter_dash dash_leaflet dash_extensions pandas geopandas dash_bootstrap_components eurostat"
   ]
  },
  {
   "cell_type": "code",
   "execution_count": null,
   "id": "114330e4-05a2-4f56-8f84-58bfdadd188d",
   "metadata": {},
   "outputs": [],
   "source": [
    "import json\n",
    "\n",
    "def run_ipynb(notebook_path):\n",
    "    with open(notebook_path, 'r', encoding='utf-8') as f:\n",
    "        notebook = json.load(f)\n",
    "    \n",
    "    for cell in notebook['cells']:\n",
    "        if cell['cell_type'] == 'code':\n",
    "            exec(\"\\n\".join(cell['source']), globals()) "
   ]
  },
  {
   "cell_type": "code",
   "execution_count": null,
   "id": "30d1ac42-bd56-4ede-8c93-8738a65a14f7",
   "metadata": {},
   "outputs": [],
   "source": [
    "run_ipynb(\"init.ipynb\")\n",
    "run_ipynb(\"load_data.ipynb\")\n",
    "run_ipynb(\"data_provider.ipynb\")\n",
    "run_ipynb(\"lay_header.ipynb\")\n",
    "run_ipynb(\"lay_footer.ipynb\")\n",
    "run_ipynb(\"lay_sidebar.ipynb\")\n",
    "run_ipynb(\"lay_map.ipynb\")\n",
    "run_ipynb(\"lay_chart01.ipynb\")\n",
    "run_ipynb(\"lay_chart02.ipynb\")\n",
    "run_ipynb(\"lay_table.ipynb\")\n",
    "run_ipynb(\"lay_main.ipynb\")\n",
    "run_ipynb(\"app_run.ipynb\")"
   ]
  }
 ],
 "metadata": {
  "kernelspec": {
   "display_name": "Python 3 (ipykernel)",
   "language": "python",
   "name": "python3"
  },
  "language_info": {
   "codemirror_mode": {
    "name": "ipython",
    "version": 3
   },
   "file_extension": ".py",
   "mimetype": "text/x-python",
   "name": "python",
   "nbconvert_exporter": "python",
   "pygments_lexer": "ipython3",
   "version": "3.10.12"
  }
 },
 "nbformat": 4,
 "nbformat_minor": 5
}
